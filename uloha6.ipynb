{
  "nbformat": 4,
  "nbformat_minor": 0,
  "metadata": {
    "colab": {
      "provenance": [],
      "authorship_tag": "ABX9TyNV+LR/7zKDfzuXes9joL6j",
      "include_colab_link": true
    },
    "kernelspec": {
      "name": "python3",
      "display_name": "Python 3"
    },
    "language_info": {
      "name": "python"
    }
  },
  "cells": [
    {
      "cell_type": "markdown",
      "metadata": {
        "id": "view-in-github",
        "colab_type": "text"
      },
      "source": [
        "<a href=\"https://colab.research.google.com/github/Awiity/mswzadani/blob/main/uloha6.ipynb\" target=\"_parent\"><img src=\"https://colab.research.google.com/assets/colab-badge.svg\" alt=\"Open In Colab\"/></a>"
      ]
    },
    {
      "cell_type": "markdown",
      "source": [
        "#Uloha 6. Generování náhodných čísel a testování generátorů"
      ],
      "metadata": {
        "id": "sGD1Ekqr69mL"
      }
    },
    {
      "cell_type": "code",
      "execution_count": 12,
      "metadata": {
        "colab": {
          "base_uri": "https://localhost:8080/"
        },
        "id": "10EJvt4c5cHm",
        "outputId": "815b3bd4-15a0-413b-e156-e87344407987"
      },
      "outputs": [
        {
          "output_type": "stream",
          "name": "stdout",
          "text": [
            "Vygenerované semeno : 11599379918395055115\n"
          ]
        }
      ],
      "source": [
        "import secrets\n",
        "\n",
        "\n",
        "def generate_seed():\n",
        "  seed = secrets.token_bytes(nbytes=8)\n",
        "\n",
        "  return int.from_bytes(seed, byteorder='big', signed=False)\n",
        "\n",
        "\n",
        "seed = generate_seed()\n",
        "print(f\"Vygenerované semeno : {seed}\")"
      ]
    }
  ]
}