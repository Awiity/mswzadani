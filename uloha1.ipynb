{
  "nbformat": 4,
  "nbformat_minor": 0,
  "metadata": {
    "colab": {
      "provenance": [],
      "authorship_tag": "ABX9TyMrDfMcSUvMBpc+hS0ooX16"
    },
    "kernelspec": {
      "name": "python3",
      "display_name": "Python 3"
    },
    "language_info": {
      "name": "python"
    }
  },
  "cells": [
    {
      "cell_type": "markdown",
      "source": [
        "libraries\n"
      ],
      "metadata": {
        "id": "TzsI0IYqsLO5"
      }
    },
    {
      "cell_type": "code",
      "execution_count": 21,
      "metadata": {
        "id": "24WTYL7Q-Ecb"
      },
      "outputs": [],
      "source": [
        "import numpy as np\n",
        "import scipy\n",
        "import math\n",
        "import time\n",
        "import timeit\n",
        "import matplotlib as plt\n",
        "import copy\n",
        "import random\n",
        "import sympy\n",
        "import cmath"
      ]
    },
    {
      "cell_type": "markdown",
      "source": [
        "#Skalarni Soucin"
      ],
      "metadata": {
        "id": "-X_ZICbq-c5V"
      }
    },
    {
      "cell_type": "code",
      "source": [
        "def skalarni_soucinPY(vektor1, vektor2):\n",
        "  res = int(0)\n",
        "  for i in range(len(vektor1)):\n",
        "    res += vektor1[i] * vektor2[i]\n",
        "  return res\n",
        "def skalarni_soucinNUMPY(vektor1, vektor2):\n",
        "  return np.dot(vektor1, vektor2)\n",
        "\n",
        "#Python\n",
        "vec1 = [i for i in range(1000000)]\n",
        "vec2 = [i for i in range(1000000,2000000)]\n",
        "t0 = time.time()\n",
        "result = skalarni_soucinPY(vec1,vec2)\n",
        "t1 = time.time()\n",
        "print(f\"Python: výsledek: {result}, čas: {(t1 - t0)*1000}ms\")\n",
        "\n",
        "#Numpy\n",
        "vec1 = np.array(vec1)\n",
        "vec2 = np.array(vec2)\n",
        "t0 = time.time()\n",
        "result_numpy = skalarni_soucinNUMPY(vec1,vec2)\n",
        "t1 = time.time()\n",
        "print(f\"NumPy: výsledek: {result_numpy}, čas: {(t1 - t0)*1000}ms\")"
      ],
      "metadata": {
        "colab": {
          "base_uri": "https://localhost:8080/"
        },
        "id": "GN0MoKio-LAi",
        "outputId": "bdbc2ee4-cc1a-4e70-d73f-2799376edf63"
      },
      "execution_count": null,
      "outputs": [
        {
          "output_type": "stream",
          "name": "stdout",
          "text": [
            "Python: výsledek: 833332333333500000, čas: 144.8357105255127ms\n",
            "NumPy: výsledek: 833332333333500000, čas: 2.255678176879883ms\n"
          ]
        }
      ]
    },
    {
      "cell_type": "markdown",
      "source": [
        "#Faktorial"
      ],
      "metadata": {
        "id": "ElV59tIpCh-y"
      }
    },
    {
      "cell_type": "code",
      "source": [
        "def faktorialPY(number):\n",
        "  res = int(1)\n",
        "  for i in range(number, 1, -1):\n",
        "    res *= i\n",
        "  return res\n",
        "t0 = time.time()\n",
        "result = faktorialPY(100)\n",
        "t1 = time.time()\n",
        "print(f\"Python: výsledek: {result}, \\nčas: {(t1-t0)*1000}ms\")\n",
        "t0 = time.time()\n",
        "result_scipy = scipy.special.factorial(100)\n",
        "t1 = time.time()\n",
        "print(f\"SciPy: výsledek: {result_scipy}, čas: {(t1-t0)*1000}ms\")\n"
      ],
      "metadata": {
        "colab": {
          "base_uri": "https://localhost:8080/"
        },
        "id": "Ezym9npWCZiL",
        "outputId": "7bdac9ad-82d4-4491-a78b-6c2198740540"
      },
      "execution_count": null,
      "outputs": [
        {
          "output_type": "stream",
          "name": "stdout",
          "text": [
            "Python: výsledek: 93326215443944152681699238856266700490715968264381621468592963895217599993229915608941463976156518286253697920827223758251185210916864000000000000000000000000, \n",
            "čas: 0.12493133544921875ms\n",
            "SciPy: výsledek: 9.332621544394415e+157, čas: 0.23317337036132812ms\n"
          ]
        }
      ]
    },
    {
      "cell_type": "markdown",
      "source": [
        "#Maticový determinant"
      ],
      "metadata": {
        "id": "2_6l4YLVs4Gw"
      }
    },
    {
      "cell_type": "code",
      "source": [
        "def calculate_determinant_numpy(matrix: np.ndarray):\n",
        "  return np.linalg.det(matrix)\n",
        "\n",
        "def get_matrix_minor(matrix, i, j):\n",
        "    #Get the minor of the matrix by removing the i-th row and j-th column.\n",
        "    return [row[:j] + row[j+1:] for row in (matrix[:i] + matrix[i+1:])]\n",
        "\n",
        "def calculate_determinant(matrix):\n",
        "    #Recursively calculate the determinant of a square matrix.\n",
        "    # Base case for 2x2 matrix :\n",
        "    if len(matrix) == 2:\n",
        "        return matrix[0][0] * matrix[1][1] - matrix[0][1] * matrix[1][0]\n",
        "\n",
        "    determinant = 0\n",
        "    for c in range(len(matrix)):\n",
        "        determinant += ((-1) ** c) * matrix[0][c] * calculate_determinant(get_matrix_minor(matrix, 0, c))\n",
        "    return determinant\n",
        "\n",
        "matrix_sizes = [3,5,7,10]\n",
        "for N in matrix_sizes:\n",
        "  print(f\"VELIKOST MATRICE N = {N}\")\n",
        "  matrix = [[random.randint(-10, 10) for i in range(N)] for j in range(N)]\n",
        "  t0 = time.time()\n",
        "  res = calculate_determinant(matrix)\n",
        "  print(f\"Python: výsledek: {res}, čas: {(time.time() - t0)*1000}ms\")\n",
        "\n",
        "  t0 = time.time()\n",
        "  res_np = calculate_determinant_numpy(matrix)\n",
        "  print(f\"NumPy: výsledek: {res_np} , čas: {(time.time() - t0)*1000}ms\\n\")\n"
      ],
      "metadata": {
        "colab": {
          "base_uri": "https://localhost:8080/"
        },
        "id": "JB-DC2TuLMwV",
        "outputId": "bf46498b-8518-4a4b-8fbe-d5a98c308784"
      },
      "execution_count": null,
      "outputs": [
        {
          "output_type": "stream",
          "name": "stdout",
          "text": [
            "VELIKOST MATRICE N = 3\n",
            "Python: výsledek: 98, čas: 0.02574920654296875ms\n",
            "NumPy: výsledek: 98.00000000000004 , čas: 0.17762184143066406ms\n",
            "\n",
            "VELIKOST MATRICE N = 5\n",
            "Python: výsledek: -4920, čas: 0.32448768615722656ms\n",
            "NumPy: výsledek: -4919.9999999999645 , čas: 0.09560585021972656ms\n",
            "\n",
            "VELIKOST MATRICE N = 7\n",
            "Python: výsledek: 5773340, čas: 21.648883819580078ms\n",
            "NumPy: výsledek: 5773339.999999992 , čas: 0.1704692840576172ms\n",
            "\n",
            "VELIKOST MATRICE N = 10\n",
            "Python: výsledek: -1983554926, čas: 5729.288101196289ms\n",
            "NumPy: výsledek: -1983554925.9999714 , čas: 0.17714500427246094ms\n",
            "\n"
          ]
        }
      ]
    },
    {
      "cell_type": "markdown",
      "source": [
        "#INTEGRACE"
      ],
      "metadata": {
        "id": "haBw0GhIsDhM"
      }
    },
    {
      "cell_type": "code",
      "source": [
        "def f(x):\n",
        "  return np.sin(x)**2 - (9*x**3 + 15*x**2)/3*x\n",
        "\n",
        "#Lichoběžníková metoda, src: https://cs.wikipedia.org/wiki/Lichoběžníková_metoda\n",
        "def integrate_python(f, a, b, n = 10) -> float:\n",
        "  delta_x = (b-a)/n\n",
        "  summation = 0\n",
        "  for i in range(1, n):\n",
        "    summation += delta_x*f(a + i*delta_x)\n",
        "  integrated_value = delta_x/2 * (f(a)+f(b)) + summation\n",
        "  return integrated_value\n",
        "\n",
        "\n",
        "def integrate_scipy(f, a, b):\n",
        "    result = scipy.integrate.quad(f, a, b)\n",
        "    return result[0]\n",
        "\n",
        "a = 0\n",
        "b = np.pi\n",
        "n = 20\n",
        "\n",
        "#Python\n",
        "t0 = time.time()\n",
        "res = integrate_python(f, a, b, n)\n",
        "t1 = time.time()\n",
        "print(f\"Python: výsledek integrace: {res}, čas: {(t1-t0)*1000}ms\")\n",
        "\n",
        "#SciPy.integrate.quad()\n",
        "t0 = time.time()\n",
        "res = integrate_scipy(f, a, b)\n",
        "t1 = time.time()\n",
        "print(f\"SciPy.: výsledek integrace: {res}, čas: {(t1-t0)*1000}ms\")\n"
      ],
      "metadata": {
        "colab": {
          "base_uri": "https://localhost:8080/"
        },
        "id": "JUh04xzq0FR7",
        "outputId": "f774e1b1-5798-4576-f6b7-5a7fc72f702a"
      },
      "execution_count": 12,
      "outputs": [
        {
          "output_type": "stream",
          "name": "stdout",
          "text": [
            "Python: výsledek integrace: -304.8716396960184, čas: 0.2472400665283203ms\n",
            "SciPy.: výsledek integrace: -303.80237833687704, čas: 0.3643035888671875ms\n"
          ]
        }
      ]
    },
    {
      "cell_type": "markdown",
      "source": [
        "#Lineární rovnice"
      ],
      "metadata": {
        "id": "MnyEhbUfzxsz"
      }
    },
    {
      "cell_type": "code",
      "source": [
        "def solve_quadratic(a, b, c):\n",
        "    if a == 0:\n",
        "        if b == 0:\n",
        "            if c == 0:\n",
        "                return \"Libovolné x (Nekonečné množství řešení)\"\n",
        "            else:\n",
        "                return \"Žádné řešení rovnice\"\n",
        "        else:\n",
        "\n",
        "            return -c / b\n",
        "    else:\n",
        "\n",
        "        discriminant = b**2 - 4*a*c\n",
        "\n",
        "        if discriminant > 0:\n",
        "\n",
        "            root1: float = (-b + math.sqrt(discriminant)) / (2*a)\n",
        "            root2: float = (-b - math.sqrt(discriminant)) / (2*a)\n",
        "            return [root1, root2]\n",
        "        elif discriminant == 0:\n",
        "            root: float = -b / (2*a)\n",
        "            return root\n",
        "        else:\n",
        "            root1 = (-b + cmath.sqrt(discriminant)) / (2*a)\n",
        "            root2 = (-b - cmath.sqrt(discriminant)) / (2*a)\n",
        "            return [root1,root2]\n",
        "\n",
        "def solve_quadratic_numpy(a, b, c):\n",
        "    return np.roots([a, b, c])\n",
        "\n",
        "a = 1\n",
        "b = -5\n",
        "c = 26\n",
        "\n",
        "t0 = time.time()\n",
        "res = solve_quadratic(a, b, c)\n",
        "t1 = time.time()\n",
        "print(f\"Python: výsledek integrace: {res}, čas: {(t1-t0)*1000}ms\")\n",
        "\n",
        "t0 = time.time()\n",
        "res = solve_quadratic_numpy(a, b, c)\n",
        "t1 = time.time()\n",
        "print(f\"Numpy: výsledek integrace: {res}, čas: {(t1-t0)*1000}ms\")"
      ],
      "metadata": {
        "id": "hXlJBEpq7WaK",
        "colab": {
          "base_uri": "https://localhost:8080/"
        },
        "outputId": "a42501a9-e4f8-4d93-a430-991e4975a19b"
      },
      "execution_count": 23,
      "outputs": [
        {
          "output_type": "stream",
          "name": "stdout",
          "text": [
            "Python: výsledek integrace: [(2.5+4.444097208657794j), (2.5-4.444097208657794j)], čas: 0.09775161743164062ms\n",
            "Numpy: výsledek integrace: [2.5+4.44409721j 2.5-4.44409721j], čas: 0.49304962158203125ms\n"
          ]
        }
      ]
    }
  ]
}