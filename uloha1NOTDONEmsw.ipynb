{
  "nbformat": 4,
  "nbformat_minor": 0,
  "metadata": {
    "colab": {
      "provenance": [],
      "authorship_tag": "ABX9TyO6col93LRlSewcyVH6WLuP",
      "include_colab_link": true
    },
    "kernelspec": {
      "name": "python3",
      "display_name": "Python 3"
    },
    "language_info": {
      "name": "python"
    }
  },
  "cells": [
    {
      "cell_type": "markdown",
      "metadata": {
        "id": "view-in-github",
        "colab_type": "text"
      },
      "source": [
        "<a href=\"https://colab.research.google.com/github/Awiity/mswzadani/blob/main/uloha1NOTDONEmsw.ipynb\" target=\"_parent\"><img src=\"https://colab.research.google.com/assets/colab-badge.svg\" alt=\"Open In Colab\"/></a>"
      ]
    },
    {
      "cell_type": "code",
      "execution_count": 1,
      "metadata": {
        "id": "24WTYL7Q-Ecb"
      },
      "outputs": [],
      "source": [
        "import numpy as np\n",
        "import scipy\n",
        "import math\n",
        "import time\n",
        "import timeit\n",
        "import matplotlib as plt"
      ]
    },
    {
      "cell_type": "markdown",
      "source": [
        "Skalarni Soucin"
      ],
      "metadata": {
        "id": "-X_ZICbq-c5V"
      }
    },
    {
      "cell_type": "code",
      "source": [
        "def skalarni_soucinPY(vektor1, vektor2):\n",
        "  res = int(0)\n",
        "  for i in range(len(vektor1)):\n",
        "    res += vektor1[i] * vektor2[i]\n",
        "  return res\n",
        "def skalarno_soucinNUMPY(vektor1, vektor2):\n",
        "  return np.dot(vektor1, vektor2)\n",
        "#Python\n",
        "vec1 = [i for i in range(1000000)]\n",
        "vec2 = [i for i in range(1000000,2000000)]\n",
        "t0 = time.time()\n",
        "res = skalarni_soucinPY(vec1,vec2)\n",
        "t1 = time.time()\n",
        "print(f\"res pure python: {res}, time: {(t1 - t0)*1000}ms\")\n",
        "#Numpy\n",
        "vec1 = np.array(vec1)\n",
        "vec2 = np.array(vec2)\n",
        "t0 = time.time()\n",
        "resn = skalarno_soucinNUMPY(vec1,vec2)\n",
        "t1 = time.time()\n",
        "print(f\"res numpy dot(): {resn}, time: {(t1 - t0)*1000}ms\")"
      ],
      "metadata": {
        "colab": {
          "base_uri": "https://localhost:8080/"
        },
        "id": "GN0MoKio-LAi",
        "outputId": "c8e288db-ea48-4342-d399-2ac8a268e840"
      },
      "execution_count": null,
      "outputs": [
        {
          "output_type": "stream",
          "name": "stdout",
          "text": [
            "res pure python: 833332333333500000, time: 152.22692489624023ms\n",
            "res numpy dot(): 833332333333500000, time: 2.004861831665039ms\n"
          ]
        }
      ]
    },
    {
      "cell_type": "markdown",
      "source": [
        "Faktorial"
      ],
      "metadata": {
        "id": "ElV59tIpCh-y"
      }
    },
    {
      "cell_type": "code",
      "source": [
        "def faktorialPY(number):\n",
        "  res = int(1)\n",
        "  for i in range(number, 1, -1):\n",
        "    res *= i\n",
        "  return res\n",
        "t0 = time.time()\n",
        "res = faktorialPY(100)\n",
        "t1 = time.time()\n",
        "print(f\"res pure python: {res}, \\ntime: {(t1-t0)*1000}ms\")\n",
        "t0 = time.time()\n",
        "res = scipy.special.factorial(100)\n",
        "t1 = time.time()\n",
        "print(f\"res scipy special.factorial: {res}, time: {(t1-t0)*1000}ms\")\n"
      ],
      "metadata": {
        "colab": {
          "base_uri": "https://localhost:8080/"
        },
        "id": "Ezym9npWCZiL",
        "outputId": "d76b3a34-121c-4999-e0ed-55d77f11acc4"
      },
      "execution_count": null,
      "outputs": [
        {
          "output_type": "stream",
          "name": "stdout",
          "text": [
            "res pure python: 93326215443944152681699238856266700490715968264381621468592963895217599993229915608941463976156518286253697920827223758251185210916864000000000000000000000000, \n",
            "time: 0.07939338684082031ms\n",
            "res scipy special.factorial: 9.332621544394415e+157, time: 0.22530555725097656ms\n"
          ]
        }
      ]
    },
    {
      "cell_type": "code",
      "source": [
        "def isPrime(n):\n",
        "  for i in range(2,n):\n",
        "    if(n%i==0):\n",
        "      return False\n",
        "  return True\n",
        "\n",
        "n = 2\n",
        "c = 0\n",
        "t0 = time.time()\n",
        "while c != 3333:\n",
        "  if isPrime(n):\n",
        "    c+=1\n",
        "  n+=1\n",
        "t1 = time.time()\n",
        "print(f\"time: {(t1-t0)*1000}ms\")\n"
      ],
      "metadata": {
        "colab": {
          "base_uri": "https://localhost:8080/"
        },
        "id": "JB-DC2TuLMwV",
        "outputId": "e244088d-cd07-4ddc-f4a7-11cae6202284"
      },
      "execution_count": null,
      "outputs": [
        {
          "output_type": "stream",
          "name": "stdout",
          "text": [
            "time: 5609.054327011108ms\n"
          ]
        }
      ]
    },
    {
      "cell_type": "code",
      "source": [
        "def f(x):\n",
        "  return np.sin(x)**2 - (9*x**3 + 15*x**2)/3*x\n",
        "\n",
        "#Lichoběžníková metoda, src: https://cs.wikipedia.org/wiki/Lichoběžníková_metoda\n",
        "def integrate_python(f, a, b, n = 10) -> float:\n",
        "  delta_x = (b-a)/n\n",
        "  summation = 0\n",
        "  for i in range(1, n):\n",
        "    summation += delta_x*f(a + i*delta_x)\n",
        "  integrated_value = delta_x/2 * (f(a)+f(b)) + summation\n",
        "  return integrated_value\n",
        "\n",
        "\n",
        "a = 0\n",
        "b = np.pi\n",
        "n = 20\n",
        "\n",
        "#Python\n",
        "t0 = time.time()\n",
        "res = integrate_python(f, a, b, n)\n",
        "t1 = time.time()\n",
        "print(f\"Python: výsledek integrace: {res}, čas: {(t1-t0)*1000}ms\")\n",
        "\n",
        "#SciPy.integrate.quad()\n",
        "t0 = time.time()\n",
        "res = scipy.integrate.quad(f, a, b)\n",
        "t1 = time.time()\n",
        "print(f\"SciPy.: výsledek integrace: {res[0]}, čas: {(t1-t0)*1000}ms\")"
      ],
      "metadata": {
        "colab": {
          "base_uri": "https://localhost:8080/"
        },
        "id": "JUh04xzq0FR7",
        "outputId": "8de3d22a-a586-456e-c1e0-d3ee4e0ee591"
      },
      "execution_count": 39,
      "outputs": [
        {
          "output_type": "stream",
          "name": "stdout",
          "text": [
            "Python: výsledek integrace: -304.8716396960184, čas: 0.2741813659667969ms\n",
            "SciPy.: výsledek integrace: -303.80237833687704, čas: 0.2796649932861328ms\n"
          ]
        }
      ]
    },
    {
      "cell_type": "code",
      "source": [],
      "metadata": {
        "id": "hXlJBEpq7WaK"
      },
      "execution_count": null,
      "outputs": []
    }
  ]
}